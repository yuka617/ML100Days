{
 "cells": [
  {
   "cell_type": "markdown",
   "metadata": {},
   "source": [
    "## 練習時間\n",
    "#### 請寫一個函式用來計算 Mean Square Error\n",
    "$ MSE = \\frac{1}{n}\\sum_{i=1}^{n}{(Y_i - \\hat{Y}_i)^2} $\n",
    "\n",
    "### Hint: [如何取平方](https://googoodesign.gitbooks.io/-ezpython/unit-1.html)"
   ]
  },
  {
   "cell_type": "markdown",
   "metadata": {},
   "source": [
    "# [作業目標]\n",
    "- 仿造範例的MAE函數, 自己寫一個MSE函數(參考上面公式)"
   ]
  },
  {
   "cell_type": "markdown",
   "metadata": {},
   "source": [
    "# [作業重點]\n",
    "- 注意程式的縮排\n",
    "- 是否能將數學公式, 轉換為 Python 的函式組合? (In[2], Out[2])"
   ]
  },
  {
   "cell_type": "code",
   "execution_count": 9,
   "metadata": {
    "scrolled": false
   },
   "outputs": [],
   "source": [
    "# 載入基礎套件與代稱\n",
    "import numpy as np\n",
    "import matplotlib.pyplot as plt"
   ]
  },
  {
   "cell_type": "code",
   "execution_count": 17,
   "metadata": {},
   "outputs": [],
   "source": [
    "def mean_absolute_error(y, yp):\n",
    "    \"\"\"\n",
    "    計算 MAE\n",
    "    Args:\n",
    "        - y: 實際值\n",
    "        - yp: 預測值\n",
    "    Return:\n",
    "        - mae: MAE\n",
    "    \"\"\"\n",
    "    mae = MAE = sum(abs(y - yp)) / len(y)\n",
    "    return mae\n",
    "\n",
    "# 定義 mean_squared_error 這個函數, 計算並傳回 MSE\n",
    "def mean_squared_error(y, yp):\n",
    "    \"\"\"\n",
    "    請完成這個 Function 後往下執行\n",
    "    \"\"\"\n",
    "    mse = MSE = sum((y - yp)**2) / len(y)\n",
    "    return mse"
   ]
  },
  {
   "cell_type": "code",
   "execution_count": 11,
   "metadata": {
    "scrolled": true
   },
   "outputs": [
    {
     "data": {
      "image/png": "[encoded data removed]",
      "text/plain": [
       "<Figure size 432x288 with 1 Axes>"
      ]
     },
     "metadata": {
      "needs_background": "light"
     },
     "output_type": "display_data"
    }
   ],
   "source": [
    "# 與範例相同, 不另外解說\n",
    "w = 3\n",
    "b = 0.5\n",
    "x_lin = np.linspace(0, 100, 101)\n",
    "y = (x_lin + np.random.randn(101) * 5) * w + b\n",
    "\n",
    "plt.plot(x_lin, y, 'b.', label = 'data points')\n",
    "plt.title(\"Assume we have data points\")\n",
    "plt.legend(loc = 2)\n",
    "plt.show()"
   ]
  },
  {
   "cell_type": "code",
   "execution_count": 12,
   "metadata": {},
   "outputs": [
    {
     "data": {
      "image/png": "[encoded data removed]",
      "text/plain": [
       "<Figure size 432x288 with 1 Axes>"
      ]
     },
     "metadata": {
      "needs_background": "light"
     },
     "output_type": "display_data"
    }
   ],
   "source": [
    "# 與範例相同, 不另外解說\n",
    "y_hat = x_lin * w + b\n",
    "plt.plot(x_lin, y, 'b.', label = 'data')\n",
    "plt.plot(x_lin, y_hat, 'r-', label = 'prediction')\n",
    "plt.title(\"Assume we have data points (And the prediction)\")\n",
    "plt.legend(loc = 2)\n",
    "plt.show()"
   ]
  },
  {
   "cell_type": "code",
   "execution_count": 18,
   "metadata": {
    "scrolled": true
   },
   "outputs": [
    {
     "name": "stdout",
     "output_type": "stream",
     "text": [
      "The Mean squared error is 297.426\n",
      "The Mean absolute error is 13.631\n"
     ]
    }
   ],
   "source": [
    "# 執行 Function, 確認有沒有正常執行\n",
    "MSE = mean_squared_error(y, y_hat)\n",
    "MAE = mean_absolute_error(y, y_hat)\n",
    "print(\"The Mean squared error is %.3f\" % (MSE))\n",
    "print(\"The Mean absolute error is %.3f\" % (MAE))"
   ]
  },
  {
   "cell_type": "markdown",
   "metadata": {},
   "source": [
    "# [作業2]\n",
    "\n",
    "請上 Kaggle, 在 Competitions 或 Dataset 中找一組競賽或資料並寫下：\n",
    "\n",
    "1. 你選的這組資料為何重要\n",
    "\n",
    "2. 資料從何而來 (tips: 譬如提供者是誰、以什麼方式蒐集)\n",
    "\n",
    "3. 蒐集而來的資料型態為何\n",
    "\n",
    "4. 這組資料想解決的問題如何評估\n",
    "\n",
    "\n",
    "# [作業3]\n",
    "\n",
    "想像你經營一個自由載客車隊，你希望能透過數據分析以提升業績，請你思考並描述你如何規劃整體的分析/解決方案：\n",
    "\n",
    "1. 核心問題為何 (tips：如何定義 「提升業績 & 你的假設」)\n",
    "\n",
    "2. 資料從何而來 (tips：哪些資料可能會對你想問的問題產生影響 & 資料如何蒐集)\n",
    "\n",
    "3. 蒐集而來的資料型態為何\n",
    "\n",
    "4. 你要回答的問題，其如何評估 (tips：你的假設如何驗證)\n"
   ]
  },
  {
   "cell_type": "markdown",
   "metadata": {},
   "source": [
    "[作業2]\n",
    "1.\n",
    "為美國13州的每小時用電量統計， 可藉由此資料觀察過去用電量趨勢並預測未來用電量\n",
    "如果夠準確可作為電量調度的依據\n",
    "2.\n",
    "PJM， 美國最大電力調度中心\n",
    "3.\n",
    "時間（yyyy-MM-dd hh:mm:ss）與能源使用量（浮點數）\n",
    "4.\n",
    "以此資料訓練模型， 並以去年資料做為測試準確度\n",
    "訓練完成後可當作預測未來的模型\n",
    "\n",
    "[作業3]\n",
    "1.\n",
    "減少空車率即可提升業績。\n",
    "假設：前往使用載客服務意願高的地點可降低空車率。\n",
    "2.\n",
    "收集現有車隊每天載客數據， 主要收集客人上下車地點， \n",
    "另外還有天氣也可能影響使用載客服務意願， \n",
    "載客人數與行走公里數也可一起統計\n",
    "3.\n",
    "主要為客人上下車的地點（座標）\n",
    "4.\n",
    "透過資料收集可歸類出使用載客服務意願高的地點， 司機可參考推薦前往這些地點， \n",
    "進行一段時間的實驗， 並與之前同樣間隔時間比較觀察業績是否有提升"
   ]
  }
 ],
 "metadata": {
  "anaconda-cloud": {},
  "kernelspec": {
   "display_name": "Python 3",
   "language": "python",
   "name": "python3"
  },
  "language_info": {
   "codemirror_mode": {
    "name": "ipython",
    "version": 3
   },
   "file_extension": ".py",
   "mimetype": "text/x-python",
   "name": "python",
   "nbconvert_exporter": "python",
   "pygments_lexer": "ipython3",
   "version": "3.7.1"
  }
 },
 "nbformat": 4,
 "nbformat_minor": 1
}
